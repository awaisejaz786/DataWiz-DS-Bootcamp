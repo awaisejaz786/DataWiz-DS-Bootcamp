{
  "nbformat": 4,
  "nbformat_minor": 0,
  "metadata": {
    "colab": {
      "name": "class1.ipynb",
      "provenance": [],
      "toc_visible": true,
      "authorship_tag": "ABX9TyNW5xXKQfdDt5Stzhn+HUcV",
      "include_colab_link": true
    },
    "kernelspec": {
      "name": "python3",
      "display_name": "Python 3"
    },
    "language_info": {
      "name": "python"
    }
  },
  "cells": [
    {
      "cell_type": "markdown",
      "metadata": {
        "id": "view-in-github",
        "colab_type": "text"
      },
      "source": [
        "<a href=\"https://colab.research.google.com/github/awaisejaz786/awais/blob/master/class1.ipynb\" target=\"_parent\"><img src=\"https://colab.research.google.com/assets/colab-badge.svg\" alt=\"Open In Colab\"/></a>"
      ]
    },
    {
      "cell_type": "markdown",
      "metadata": {
        "id": "B1-kC18a4rt0"
      },
      "source": [
        "Class 1 Pyhton DataWiz DS bootcamp"
      ]
    },
    {
      "cell_type": "code",
      "metadata": {
        "id": "S9zVm8Eb8OTz",
        "colab": {
          "base_uri": "https://localhost:8080/"
        },
        "outputId": "4580714b-1938-4df5-bdeb-866a62020329"
      },
      "source": [
        "print (\"Awais\")"
      ],
      "execution_count": 12,
      "outputs": [
        {
          "output_type": "stream",
          "text": [
            "Awais\n"
          ],
          "name": "stdout"
        }
      ]
    },
    {
      "cell_type": "code",
      "metadata": {
        "colab": {
          "base_uri": "https://localhost:8080/"
        },
        "id": "qhRbp0Ve4GEl",
        "outputId": "8ac3c6dc-26dd-4920-9c67-13513205159b"
      },
      "source": [
        "print(2+2)"
      ],
      "execution_count": 10,
      "outputs": [
        {
          "output_type": "stream",
          "text": [
            "4\n"
          ],
          "name": "stdout"
        }
      ]
    },
    {
      "cell_type": "code",
      "metadata": {
        "colab": {
          "base_uri": "https://localhost:8080/"
        },
        "id": "AgJ22URP5WPB",
        "outputId": "91ed8382-e0ed-4ce2-d089-61263f51c923"
      },
      "source": [
        "100/7"
      ],
      "execution_count": 6,
      "outputs": [
        {
          "output_type": "execute_result",
          "data": {
            "text/plain": [
              "14.285714285714286"
            ]
          },
          "metadata": {
            "tags": []
          },
          "execution_count": 6
        }
      ]
    },
    {
      "cell_type": "code",
      "metadata": {
        "colab": {
          "base_uri": "https://localhost:8080/"
        },
        "id": "lgINNk3UXC1A",
        "outputId": "856e8220-bd05-4a4e-e7a3-69236550d1de"
      },
      "source": [
        "100  7"
      ],
      "execution_count": 11,
      "outputs": [
        {
          "output_type": "execute_result",
          "data": {
            "text/plain": [
              "2"
            ]
          },
          "metadata": {
            "tags": []
          },
          "execution_count": 11
        }
      ]
    },
    {
      "cell_type": "code",
      "metadata": {
        "colab": {
          "base_uri": "https://localhost:8080/"
        },
        "id": "18YeH9XoXH0z",
        "outputId": "a4857f0a-8b9f-4012-a8b8-904716af9414"
      },
      "source": [
        "25**(1/2)"
      ],
      "execution_count": 9,
      "outputs": [
        {
          "output_type": "execute_result",
          "data": {
            "text/plain": [
              "5.0"
            ]
          },
          "metadata": {
            "tags": []
          },
          "execution_count": 9
        }
      ]
    },
    {
      "cell_type": "code",
      "metadata": {
        "id": "PIGRA0BzXdBR"
      },
      "source": [
        "Cost_of_ice_bag = 1.25\n",
        "\n",
        "Profit_margin = 0.2\n",
        "\n",
        "Number_of_bags = 500\n"
      ],
      "execution_count": 12,
      "outputs": []
    },
    {
      "cell_type": "code",
      "metadata": {
        "id": "6Q8r38HcbVsV"
      },
      "source": [
        "Profit_per_bag = Profit_margin * Cost_of_ice_bag\n",
        "total_profit = Number_of_bags * Profit_per_bag\n"
      ],
      "execution_count": 13,
      "outputs": []
    },
    {
      "cell_type": "code",
      "metadata": {
        "colab": {
          "base_uri": "https://localhost:8080/"
        },
        "id": "Xvd6PpO4br43",
        "outputId": "440a3c95-ffaf-481c-d161-1ad0b658be44"
      },
      "source": [
        "print (Profit_per_bag)"
      ],
      "execution_count": 15,
      "outputs": [
        {
          "output_type": "stream",
          "text": [
            "0.25\n"
          ],
          "name": "stdout"
        }
      ]
    },
    {
      "cell_type": "code",
      "metadata": {
        "colab": {
          "base_uri": "https://localhost:8080/"
        },
        "id": "ybU1azOXb1sx",
        "outputId": "0c68099e-f1a8-4ce2-f0ca-9b7aca548173"
      },
      "source": [
        "print (total_profit)"
      ],
      "execution_count": 16,
      "outputs": [
        {
          "output_type": "stream",
          "text": [
            "125.0\n"
          ],
          "name": "stdout"
        }
      ]
    },
    {
      "cell_type": "code",
      "metadata": {
        "colab": {
          "base_uri": "https://localhost:8080/"
        },
        "id": "qJlAvaTAb7cO",
        "outputId": "c8c7b955-4e4d-43c6-f205-54247d3fa928"
      },
      "source": [
        "print (\"total profit is\", total_profit)\n"
      ],
      "execution_count": 18,
      "outputs": [
        {
          "output_type": "stream",
          "text": [
            "total profit is 125.0\n"
          ],
          "name": "stdout"
        }
      ]
    },
    {
      "cell_type": "code",
      "metadata": {
        "id": "pzoMSXCNcrqh"
      },
      "source": [
        ""
      ],
      "execution_count": null,
      "outputs": []
    }
  ]
}